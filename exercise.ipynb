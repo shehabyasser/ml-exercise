{
 "cells": [
  {
   "cell_type": "code",
   "execution_count": 66,
   "metadata": {},
   "outputs": [
    {
     "name": "stdout",
     "output_type": "stream",
     "text": [
      "headers: ['market_id', 'created_at', 'actual_delivery_time', 'store_id', 'subtotal', 'total_onshift_dashers', 'total_busy_dashers', 'total_outstanding_orders', 'estimated_store_to_consumer_driving_duration']\n"
     ]
    }
   ],
   "source": [
    "import pandas as pd\n",
    "\n",
    "df = pd.read_csv('training.csv')\n",
    "\n",
    "print(f'headers: {df.columns.values.tolist()}')"
   ]
  },
  {
   "cell_type": "markdown",
   "metadata": {},
   "source": [
    "StoreId seems like an arbitrary number assigned at a database level, so dropping it."
   ]
  },
  {
   "cell_type": "code",
   "execution_count": 67,
   "metadata": {},
   "outputs": [],
   "source": [
    "df = df.drop('store_id', axis=1)"
   ]
  },
  {
   "cell_type": "code",
   "execution_count": 68,
   "metadata": {},
   "outputs": [
    {
     "name": "stdout",
     "output_type": "stream",
     "text": [
      "           market_id       subtotal  total_onshift_dashers  \\\n",
      "count  196441.000000  197428.000000          181166.000000   \n",
      "mean        2.978706    2682.331402              44.808093   \n",
      "std         1.524867    1823.093688              34.526783   \n",
      "min         1.000000       0.000000              -4.000000   \n",
      "25%         2.000000    1400.000000              17.000000   \n",
      "50%         3.000000    2200.000000              37.000000   \n",
      "75%         4.000000    3395.000000              65.000000   \n",
      "max         6.000000   27100.000000             171.000000   \n",
      "\n",
      "       total_busy_dashers  total_outstanding_orders  \\\n",
      "count       181166.000000             181166.000000   \n",
      "mean            41.739747                 58.050065   \n",
      "std             32.145733                 52.661830   \n",
      "min             -5.000000                 -6.000000   \n",
      "25%             15.000000                 17.000000   \n",
      "50%             34.000000                 41.000000   \n",
      "75%             62.000000                 85.000000   \n",
      "max            154.000000                285.000000   \n",
      "\n",
      "       estimated_store_to_consumer_driving_duration  \n",
      "count                                 196902.000000  \n",
      "mean                                     545.358935  \n",
      "std                                      219.352902  \n",
      "min                                        0.000000  \n",
      "25%                                      382.000000  \n",
      "50%                                      544.000000  \n",
      "75%                                      702.000000  \n",
      "max                                     2088.000000  \n"
     ]
    }
   ],
   "source": [
    "print(df.describe())"
   ]
  },
  {
   "cell_type": "markdown",
   "metadata": {},
   "source": [
    "### Data Cleaning\n",
    "1. Dropping irrelevant columns.\n",
    "2. Dropping duplicates.\n",
    "3. Null exists? Drop them."
   ]
  },
  {
   "cell_type": "code",
   "execution_count": 69,
   "metadata": {},
   "outputs": [
    {
     "name": "stdout",
     "output_type": "stream",
     "text": [
      "Number of observations: 197428\n",
      "Number of observations: 197428\n"
     ]
    }
   ],
   "source": [
    "observation_count = df.shape[0]\n",
    "print(f'Number of observations: {observation_count}')\n",
    "\n",
    "df.drop_duplicates(inplace=True)\n",
    "\n",
    "observation_count = df.shape[0]\n",
    "print(f'Number of observations: {observation_count}')"
   ]
  },
  {
   "cell_type": "code",
   "execution_count": 70,
   "metadata": {},
   "outputs": [
    {
     "name": "stdout",
     "output_type": "stream",
     "text": [
      "        market_id           created_at actual_delivery_time  subtotal  \\\n",
      "45            NaN  2015-02-09 03:27:37  2015-02-09 04:22:18      2400   \n",
      "92            3.0  2015-01-29 18:56:20  2015-01-29 19:26:39       975   \n",
      "109           3.0  2015-02-10 21:51:54                  NaN      1125   \n",
      "160           6.0  2015-02-06 01:11:56  2015-02-06 01:42:51       575   \n",
      "161           6.0  2015-02-14 02:07:47  2015-02-14 03:17:37      1415   \n",
      "...           ...                  ...                  ...       ...   \n",
      "197199        3.0  2015-01-24 03:15:41  2015-01-24 04:04:19      2776   \n",
      "197209        1.0  2015-01-29 20:15:51  2015-01-29 21:03:01      7200   \n",
      "197259        NaN  2015-02-10 01:32:37  2015-02-10 02:02:09       849   \n",
      "197416        1.0  2015-01-29 19:39:17  2015-01-29 20:34:21       639   \n",
      "197421        1.0  2015-01-30 03:35:01  2015-01-30 04:42:19       979   \n",
      "\n",
      "        total_onshift_dashers  total_busy_dashers  total_outstanding_orders  \\\n",
      "45                       94.0                92.0                     149.0   \n",
      "92                        2.0                 2.0                       1.0   \n",
      "109                       7.0                 5.0                       4.0   \n",
      "160                       NaN                 NaN                       NaN   \n",
      "161                       NaN                 NaN                       NaN   \n",
      "...                       ...                 ...                       ...   \n",
      "197199                    NaN                 NaN                       NaN   \n",
      "197209                   20.0                20.0                      22.0   \n",
      "197259                   25.0                13.0                      20.0   \n",
      "197416                   26.0                26.0                      37.0   \n",
      "197421                    NaN                 NaN                       NaN   \n",
      "\n",
      "        estimated_store_to_consumer_driving_duration  \n",
      "45                                             287.0  \n",
      "92                                               NaN  \n",
      "109                                            488.0  \n",
      "160                                            671.0  \n",
      "161                                            893.0  \n",
      "...                                              ...  \n",
      "197199                                         820.0  \n",
      "197209                                           NaN  \n",
      "197259                                        1013.0  \n",
      "197416                                           NaN  \n",
      "197421                                         614.0  \n",
      "\n",
      "[17669 rows x 8 columns]\n",
      "Number of observations: 179759\n",
      "------------------------------\n",
      "Empty DataFrame\n",
      "Columns: [market_id, created_at, actual_delivery_time, subtotal, total_onshift_dashers, total_busy_dashers, total_outstanding_orders, estimated_store_to_consumer_driving_duration]\n",
      "Index: []\n"
     ]
    }
   ],
   "source": [
    "# Print all rows with NAN/Nulls before.\n",
    "print(df[df.isnull().any(axis=1)])\n",
    "\n",
    "df = df.dropna(axis = 0, how='any')\n",
    "\n",
    "observation_count = df.shape[0]\n",
    "print(f'Number of observations: {observation_count}')\n",
    "\n",
    "print('------------------------------')\n",
    "\n",
    "# Print all rows with NAN/Nulls after.\n",
    "print(df[df.isnull().any(axis=1)])\n",
    "\n"
   ]
  }
 ],
 "metadata": {
  "kernelspec": {
   "display_name": ".venv",
   "language": "python",
   "name": "python3"
  },
  "language_info": {
   "codemirror_mode": {
    "name": "ipython",
    "version": 3
   },
   "file_extension": ".py",
   "mimetype": "text/x-python",
   "name": "python",
   "nbconvert_exporter": "python",
   "pygments_lexer": "ipython3",
   "version": "3.9.6"
  }
 },
 "nbformat": 4,
 "nbformat_minor": 2
}
